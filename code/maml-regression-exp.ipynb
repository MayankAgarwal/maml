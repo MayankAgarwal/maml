{
 "cells": [
  {
   "cell_type": "code",
   "execution_count": 89,
   "metadata": {
    "collapsed": true
   },
   "outputs": [],
   "source": [
    "import torch\n",
    "import torch.nn as nn\n",
    "import torch.optim as optim\n",
    "import torch.nn.functional as F\n",
    "from torch.autograd import Variable, grad"
   ]
  },
  {
   "cell_type": "code",
   "execution_count": 90,
   "metadata": {},
   "outputs": [
    {
     "name": "stdout",
     "output_type": "stream",
     "text": [
      "0.4.0a0+ed64001\n"
     ]
    }
   ],
   "source": [
    "print torch.__version__    # 0.4.0a0+ed64001"
   ]
  },
  {
   "cell_type": "code",
   "execution_count": 91,
   "metadata": {
    "collapsed": true
   },
   "outputs": [],
   "source": [
    "import matplotlib\n",
    "import matplotlib.pyplot as plt\n",
    "import numpy as np\n",
    "%matplotlib inline"
   ]
  },
  {
   "cell_type": "code",
   "execution_count": 124,
   "metadata": {
    "collapsed": true
   },
   "outputs": [],
   "source": [
    "alpha, beta = 1e-4, 1e-4\n",
    "meta_batch_size = 32"
   ]
  },
  {
   "cell_type": "code",
   "execution_count": 93,
   "metadata": {
    "collapsed": true
   },
   "outputs": [],
   "source": [
    "class Net(nn.Module):\n",
    "    \n",
    "    def __init__(self):\n",
    "        \n",
    "        super(Net, self).__init__()\n",
    "        \n",
    "        self.fc1 = nn.Linear(1, 40)\n",
    "        self.fc2 = nn.Linear(40, 40)\n",
    "        self.fc3 = nn.Linear(40, 1)\n",
    "        \n",
    "    def forward(self, x):\n",
    "        \n",
    "        x = x.view(-1, 1)\n",
    "        \n",
    "        x = self.fc1(x)\n",
    "        x = F.relu(x)\n",
    "        \n",
    "        x = self.fc2(x)\n",
    "        x = F.relu(x)\n",
    "        \n",
    "        x = self.fc3(x)\n",
    "        \n",
    "        return x"
   ]
  },
  {
   "cell_type": "code",
   "execution_count": 94,
   "metadata": {},
   "outputs": [
    {
     "data": {
      "image/png": "[encoded data removed]",
      "text/plain": [
       "<matplotlib.figure.Figure at 0x11474cb50>"
      ]
     },
     "metadata": {},
     "output_type": "display_data"
    },
    {
     "data": {
      "text/plain": [
       "(Variable containing:\n",
       "  0.1519\n",
       " -1.9502\n",
       "  4.3607\n",
       " -1.6708\n",
       " -2.3655\n",
       " -4.5414\n",
       "  3.0258\n",
       " -3.3817\n",
       " -4.5211\n",
       "  2.6035\n",
       " [torch.FloatTensor of size 10], Variable containing:\n",
       "  3.3063\n",
       " -2.2768\n",
       " -2.2066\n",
       " -1.5000\n",
       " -3.0907\n",
       "  0.6346\n",
       " -3.0040\n",
       " -2.7890\n",
       "  0.5670\n",
       " -2.1059\n",
       " [torch.FloatTensor of size 10])"
      ]
     },
     "execution_count": 94,
     "metadata": {},
     "output_type": "execute_result"
    }
   ],
   "source": [
    "def get_samples(k, show=True, net=None):\n",
    "    \n",
    "    def compute_sine(amp, phase, x):\n",
    "        return amp * np.sin(x + phase)\n",
    "    \n",
    "    amp = np.random.uniform(0.1, 5.0)\n",
    "    phase = np.random.uniform(0, np.pi)\n",
    "    \n",
    "    x = np.random.uniform(-5.0, 5.0, size=k)\n",
    "    y = compute_sine(amp, phase, x)\n",
    "    \n",
    "    x_all = np.linspace(-5, 5, num=1000)\n",
    "    y_all = compute_sine(amp, phase, x_all)\n",
    "    \n",
    "    if net is not None:\n",
    "        y_net_all = net(Variable(torch.from_numpy(x_all).type(torch.FloatTensor), requires_grad=True))\n",
    "        y_net_all = y_net_all.data.numpy()\n",
    "    \n",
    "    if show:\n",
    "        plt.figure()\n",
    "        plt.plot(x, y, 'ro')\n",
    "        \n",
    "        if net is not None:\n",
    "            plt.plot(x_all, y_all, 'b--', x_all, y_net_all, 'g--')\n",
    "        else:\n",
    "            plt.plot(x_all, y_all, 'b--')\n",
    "            \n",
    "        plt.show()\n",
    "        \n",
    "    x, y = Variable(torch.from_numpy(x), requires_grad=True), Variable(torch.from_numpy(y))\n",
    "    x, y = x.float(), y.float()\n",
    "    \n",
    "    return (x, y)\n",
    "\n",
    "get_samples(10, show=True)"
   ]
  },
  {
   "cell_type": "code",
   "execution_count": 95,
   "metadata": {},
   "outputs": [
    {
     "data": {
      "image/png": "[encoded data removed]",
      "text/plain": [
       "<matplotlib.figure.Figure at 0x1147639d0>"
      ]
     },
     "metadata": {},
     "output_type": "display_data"
    }
   ],
   "source": [
    "net = Net()\n",
    "x, y = get_samples(10, show=True, net=net)\n",
    "loss_criteria = nn.MSELoss()"
   ]
  },
  {
   "cell_type": "code",
   "execution_count": 84,
   "metadata": {},
   "outputs": [
    {
     "name": "stdout",
     "output_type": "stream",
     "text": [
      "Loss:  4.21541213989\n"
     ]
    }
   ],
   "source": [
    "output = net(x)\n",
    "loss = loss_criteria(output, y)\n",
    "print \"Loss: \", loss.data[0]"
   ]
  },
  {
   "cell_type": "code",
   "execution_count": 9,
   "metadata": {
    "collapsed": true
   },
   "outputs": [],
   "source": [
    "# Compute d L(ftheta)/dtheta\n",
    "net.zero_grad()\n",
    "loss.backward(create_graph=True)"
   ]
  },
  {
   "cell_type": "code",
   "execution_count": 10,
   "metadata": {
    "collapsed": true
   },
   "outputs": [],
   "source": [
    "# Update model parameters\n",
    "original_state = net.state_dict()\n",
    "for W in net.parameters():\n",
    "    W.data.sub_(alpha*W.grad.data)"
   ]
  },
  {
   "cell_type": "code",
   "execution_count": 11,
   "metadata": {},
   "outputs": [
    {
     "data": {
      "image/png": "[encoded data removed]",
      "text/plain": [
       "<matplotlib.figure.Figure at 0x114044c10>"
      ]
     },
     "metadata": {},
     "output_type": "display_data"
    }
   ],
   "source": [
    "# Get parameters fro one step lookahead\n",
    "x_new, y_new = get_samples(10, show=True, net=net)"
   ]
  },
  {
   "cell_type": "code",
   "execution_count": 12,
   "metadata": {},
   "outputs": [],
   "source": [
    "output_lookahead = net(x_new)\n",
    "loss = loss_criteria(output_lookahead, y_new)\n",
    "grad_lookahead = grad(loss, net.parameters(), create_graph=True)\n",
    "grad_lookahead = map(lambda x: Variable(x.data), grad_lookahead)"
   ]
  },
  {
   "cell_type": "code",
   "execution_count": 13,
   "metadata": {},
   "outputs": [
    {
     "name": "stdout",
     "output_type": "stream",
     "text": [
      "<class 'torch.autograd.variable.Variable'> None\n"
     ]
    }
   ],
   "source": [
    "print type(grad_lookahead[0]), grad_lookahead[0].grad_fn"
   ]
  },
  {
   "cell_type": "code",
   "execution_count": 14,
   "metadata": {},
   "outputs": [
    {
     "name": "stdout",
     "output_type": "stream",
     "text": [
      "Param:  fc1.weight\n",
      "W size:  torch.Size([40, 1]) <class 'torch.nn.parameter.Parameter'>\n",
      "Beta:  0.01  Alpha:  0.01\n",
      "HVP size:  torch.Size([40, 1]) <class 'torch.autograd.variable.Variable'>\n",
      "Original size:  torch.Size([40, 1])\n",
      "Param:  fc1.bias\n",
      "W size:  torch.Size([40]) <class 'torch.nn.parameter.Parameter'>\n",
      "Beta:  0.01  Alpha:  0.01\n",
      "HVP size:  torch.Size([40]) <class 'torch.autograd.variable.Variable'>\n",
      "Original size:  torch.Size([40])\n",
      "Param:  fc2.weight\n",
      "W size:  torch.Size([40, 40]) <class 'torch.nn.parameter.Parameter'>\n",
      "Beta:  0.01  Alpha:  0.01\n",
      "HVP size:  torch.Size([40, 40]) <class 'torch.autograd.variable.Variable'>\n",
      "Original size:  torch.Size([40, 40])\n",
      "Param:  fc2.bias\n",
      "W size:  torch.Size([40]) <class 'torch.nn.parameter.Parameter'>\n",
      "Beta:  0.01  Alpha:  0.01\n",
      "HVP size:  torch.Size([40]) <class 'torch.autograd.variable.Variable'>\n",
      "Original size:  torch.Size([40])\n",
      "Param:  fc3.weight\n",
      "W size:  torch.Size([1, 40]) <class 'torch.nn.parameter.Parameter'>\n",
      "Beta:  0.01  Alpha:  0.01\n",
      "HVP size:  torch.Size([1, 40]) <class 'torch.autograd.variable.Variable'>\n",
      "Original size:  torch.Size([1, 40])\n",
      "Param:  fc3.bias\n",
      "W size:  torch.Size([1]) <class 'torch.nn.parameter.Parameter'>\n",
      "Beta:  0.01  Alpha:  0.01\n",
      "HVP size:  torch.Size([1]) <class 'torch.autograd.variable.Variable'>\n",
      "Original size:  torch.Size([1])\n"
     ]
    }
   ],
   "source": [
    "for i, (n, W) in enumerate(net.named_parameters()):\n",
    "    vjp = torch.sum(W.grad * grad_lookahead[i])\n",
    "#     vjp.requires_grad = True\n",
    "#     vjp.volatile = False\n",
    "    \n",
    "    hvp = grad(vjp, W, retain_graph=True)[0]\n",
    "\n",
    "    print \"Param: \", n\n",
    "    print \"W size: \",  W.size(), type(W)\n",
    "    print \"Beta: \", beta, \" Alpha: \", alpha\n",
    "    print \"HVP size: \", hvp.size(), type(hvp)\n",
    "    print \"Original size: \", original_state[n].size()\n",
    "\n",
    "    original_state[n] -= (beta*W.grad.data - alpha*hvp.data)\n",
    "\n",
    "net.load_state_dict(original_state)"
   ]
  },
  {
   "cell_type": "code",
   "execution_count": 15,
   "metadata": {},
   "outputs": [
    {
     "name": "stdout",
     "output_type": "stream",
     "text": [
      "[('fc1.weight', Parameter containing:\n",
      " 0.3776\n",
      " 0.4947\n",
      "-0.7980\n",
      " 0.9925\n",
      " 0.5800\n",
      " 0.1819\n",
      "-0.6825\n",
      " 0.2747\n",
      "-0.5608\n",
      "-0.1394\n",
      " 0.1098\n",
      "-0.6013\n",
      " 0.6517\n",
      " 0.2797\n",
      " 0.0188\n",
      "-0.8725\n",
      "-0.4822\n",
      "-0.3238\n",
      "-0.7807\n",
      "-0.9663\n",
      "-0.5344\n",
      " 0.1630\n",
      "-0.9407\n",
      "-0.0556\n",
      "-0.8519\n",
      "-0.2712\n",
      " 0.7415\n",
      " 0.1503\n",
      "-0.1661\n",
      "-0.2526\n",
      " 0.5220\n",
      "-0.1843\n",
      " 0.1355\n",
      " 0.6084\n",
      " 0.2410\n",
      "-0.3064\n",
      "-0.1429\n",
      " 0.1303\n",
      " 0.1015\n",
      "-0.3597\n",
      "[torch.FloatTensor of size 40x1]\n",
      "), ('fc1.bias', Parameter containing:\n",
      "-0.4923\n",
      "-0.1236\n",
      "-0.3610\n",
      " 0.3624\n",
      " 0.5240\n",
      " 0.2114\n",
      " 0.4434\n",
      "-0.7871\n",
      " 0.6532\n",
      "-0.7762\n",
      "-0.3575\n",
      "-0.3033\n",
      " 0.0137\n",
      "-0.4505\n",
      "-0.9459\n",
      " 0.2348\n",
      " 0.3547\n",
      "-0.2686\n",
      "-0.1834\n",
      "-0.7696\n",
      " 0.5058\n",
      " 0.7891\n",
      " 0.6539\n",
      "-0.5835\n",
      " 0.3809\n",
      " 0.5025\n",
      " 0.0566\n",
      "-0.7978\n",
      " 0.5277\n",
      "-0.3174\n",
      "-0.9670\n",
      "-0.7793\n",
      " 0.6460\n",
      "-0.9630\n",
      " 0.8867\n",
      " 0.3873\n",
      "-0.4755\n",
      "-0.8929\n",
      "-0.7547\n",
      " 0.0277\n",
      "[torch.FloatTensor of size 40]\n",
      "), ('fc2.weight', Parameter containing:\n",
      "-0.0218  0.0508 -0.1260  ...  -0.1070 -0.1102  0.0633\n",
      "-0.1012 -0.1064 -0.0528  ...  -0.1185  0.0829  0.1145\n",
      " 0.0067  0.0642 -0.0904  ...  -0.1065 -0.0649  0.0606\n",
      "          ...             ⋱             ...          \n",
      "-0.0802  0.0318 -0.0731  ...   0.0227 -0.1006 -0.0204\n",
      " 0.0058  0.1517 -0.0021  ...   0.1071  0.1367  0.0158\n",
      " 0.0174  0.0735 -0.1119  ...   0.0085 -0.1214  0.0305\n",
      "[torch.FloatTensor of size 40x40]\n",
      "), ('fc2.bias', Parameter containing:\n",
      " 0.1117\n",
      " 0.0013\n",
      "-0.0440\n",
      "-0.1356\n",
      "-0.0420\n",
      "-0.1182\n",
      " 0.0389\n",
      "-0.1503\n",
      "-0.1425\n",
      " 0.1067\n",
      " 0.0283\n",
      " 0.0358\n",
      "-0.1084\n",
      "-0.1005\n",
      " 0.0588\n",
      " 0.0974\n",
      " 0.1382\n",
      " 0.0046\n",
      "-0.1455\n",
      "-0.0162\n",
      "-0.1228\n",
      " 0.0310\n",
      "-0.1043\n",
      " 0.0524\n",
      " 0.0683\n",
      " 0.0569\n",
      " 0.1490\n",
      "-0.0881\n",
      "-0.1060\n",
      " 0.0700\n",
      "-0.0857\n",
      " 0.0412\n",
      " 0.0033\n",
      " 0.0328\n",
      " 0.1040\n",
      " 0.0179\n",
      "-0.0969\n",
      "-0.0703\n",
      "-0.0171\n",
      " 0.1256\n",
      "[torch.FloatTensor of size 40]\n",
      "), ('fc3.weight', Parameter containing:\n",
      "\n",
      "Columns 0 to 9 \n",
      " 0.0731  0.1870  0.0486 -0.0197  0.0564  0.2448 -0.1575  0.1000  0.1139 -0.0596\n",
      "\n",
      "Columns 10 to 19 \n",
      " 0.1731 -0.1123 -0.0628 -0.0305  0.0353  0.2075 -0.0554 -0.1233  0.1588 -0.0205\n",
      "\n",
      "Columns 20 to 29 \n",
      "-0.0730  0.0241  0.1613 -0.0044  0.0758 -0.1358 -0.1009  0.1083  0.1464 -0.0544\n",
      "\n",
      "Columns 30 to 39 \n",
      "-0.0502 -0.0902 -0.1332 -0.0672  0.0572  0.0586  0.1075  0.0246 -0.0720 -0.0450\n",
      "[torch.FloatTensor of size 1x40]\n",
      "), ('fc3.bias', Parameter containing:\n",
      "-0.1139\n",
      "[torch.FloatTensor of size 1]\n",
      ")]\n"
     ]
    }
   ],
   "source": [
    "print list(net.named_parameters())"
   ]
  },
  {
   "cell_type": "code",
   "execution_count": 16,
   "metadata": {},
   "outputs": [],
   "source": [
    "from graphviz import Digraph\n",
    "\n",
    "def make_dot(var, params=None):\n",
    "    \"\"\" Produces Graphviz representation of PyTorch autograd graph\n",
    "    Blue nodes are the Variables that require grad, orange are Tensors\n",
    "    saved for backward in torch.autograd.Function\n",
    "    Args:\n",
    "        var: output Variable\n",
    "        params: dict of (name, Variable) to add names to node that\n",
    "            require grad (TODO: make optional)\n",
    "    \"\"\"\n",
    "    if params is not None:\n",
    "        assert isinstance(params.values()[0], Variable)\n",
    "        param_map = {id(v): k for k, v in params.items()}\n",
    "\n",
    "    node_attr = dict(style='filled',\n",
    "                     shape='box',\n",
    "                     align='left',\n",
    "                     fontsize='12',\n",
    "                     ranksep='0.1',\n",
    "                     height='0.2')\n",
    "    dot = Digraph(node_attr=node_attr, graph_attr=dict(size=\"12,12\"))\n",
    "    seen = set()\n",
    "\n",
    "    def size_to_str(size):\n",
    "        return '('+(', ').join(['%d' % v for v in size])+')'\n",
    "\n",
    "    def add_nodes(var):\n",
    "        if var not in seen:\n",
    "            if torch.is_tensor(var):\n",
    "                dot.node(str(id(var)), size_to_str(var.size()), fillcolor='orange')\n",
    "            elif hasattr(var, 'variable'):\n",
    "                u = var.variable\n",
    "                name = param_map[id(u)] if params is not None else ''\n",
    "                node_name = '%s\\n %s' % (name, size_to_str(u.size()))\n",
    "                dot.node(str(id(var)), node_name, fillcolor='lightblue')\n",
    "            else:\n",
    "                dot.node(str(id(var)), str(type(var).__name__))\n",
    "            seen.add(var)\n",
    "            if hasattr(var, 'next_functions'):\n",
    "                for u in var.next_functions:\n",
    "                    if u[0] is not None:\n",
    "                        dot.edge(str(id(u[0])), str(id(var)))\n",
    "                        add_nodes(u[0])\n",
    "            if hasattr(var, 'saved_tensors'):\n",
    "                for t in var.saved_tensors:\n",
    "                    dot.edge(str(id(t)), str(id(var)))\n",
    "                    add_nodes(t)\n",
    "    add_nodes(var.grad_fn)\n",
    "    return dot"
   ]
  },
  {
   "cell_type": "code",
   "execution_count": 17,
   "metadata": {},
   "outputs": [
    {
     "data": {
      "image/svg+xml": [
       "<?xml version=\"1.0\" encoding=\"UTF-8\" standalone=\"no\"?>\n",
       "<!DOCTYPE svg PUBLIC \"-//W3C//DTD SVG 1.1//EN\"\n",
       " \"http://www.w3.org/Graphics/SVG/1.1/DTD/svg11.dtd\">\n",
       "<!-- Generated by graphviz version 2.38.0 (20140413.2041)\n",
       " -->\n",
       "<!-- Title: %3 Pages: 1 -->\n",
       "<svg width=\"331pt\" height=\"756pt\"\n",
       " viewBox=\"0.00 0.00 330.64 756.00\" xmlns=\"http://www.w3.org/2000/svg\" xmlns:xlink=\"http://www.w3.org/1999/xlink\">\n",
       "<g id=\"graph0\" class=\"graph\" transform=\"scale(1 1) rotate(0) translate(4 752)\">\n",
       "<title>%3</title>\n",
       "<polygon fill=\"white\" stroke=\"none\" points=\"-4,4 -4,-752 326.638,-752 326.638,4 -4,4\"/>\n",
       "<!-- 4630457552 -->\n",
       "<g id=\"node1\" class=\"node\"><title>4630457552</title>\n",
       "<polygon fill=\"lightgrey\" stroke=\"black\" points=\"221.803,-20 129.497,-20 129.497,-0 221.803,-0 221.803,-20\"/>\n",
       "<text text-anchor=\"middle\" x=\"175.65\" y=\"-6.4\" font-family=\"Times,serif\" font-size=\"12.00\">SumBackward0</text>\n",
       "</g>\n",
       "<!-- 4630457360 -->\n",
       "<g id=\"node2\" class=\"node\"><title>4630457360</title>\n",
       "<polygon fill=\"lightgrey\" stroke=\"black\" points=\"220.8,-76 130.501,-76 130.501,-56 220.8,-56 220.8,-76\"/>\n",
       "<text text-anchor=\"middle\" x=\"175.65\" y=\"-62.4\" font-family=\"Times,serif\" font-size=\"12.00\">MulBackward1</text>\n",
       "</g>\n",
       "<!-- 4630457360&#45;&gt;4630457552 -->\n",
       "<g id=\"edge1\" class=\"edge\"><title>4630457360&#45;&gt;4630457552</title>\n",
       "<path fill=\"none\" stroke=\"black\" d=\"M175.65,-55.5939C175.65,-48.7024 175.65,-39.1024 175.65,-30.5741\"/>\n",
       "<polygon fill=\"black\" stroke=\"black\" points=\"179.15,-30.2983 175.65,-20.2983 172.15,-30.2983 179.15,-30.2983\"/>\n",
       "</g>\n",
       "<!-- 4630793424 -->\n",
       "<g id=\"node3\" class=\"node\"><title>4630793424</title>\n",
       "<polygon fill=\"lightgrey\" stroke=\"black\" points=\"202.65,-132 148.65,-132 148.65,-112 202.65,-112 202.65,-132\"/>\n",
       "<text text-anchor=\"middle\" x=\"175.65\" y=\"-118.4\" font-family=\"Times,serif\" font-size=\"12.00\">Identity</text>\n",
       "</g>\n",
       "<!-- 4630793424&#45;&gt;4630457360 -->\n",
       "<g id=\"edge2\" class=\"edge\"><title>4630793424&#45;&gt;4630457360</title>\n",
       "<path fill=\"none\" stroke=\"black\" d=\"M175.65,-111.594C175.65,-104.702 175.65,-95.1024 175.65,-86.5741\"/>\n",
       "<polygon fill=\"black\" stroke=\"black\" points=\"179.15,-86.2983 175.65,-76.2983 172.15,-86.2983 179.15,-86.2983\"/>\n",
       "</g>\n",
       "<!-- 4630023760 -->\n",
       "<g id=\"node4\" class=\"node\"><title>4630023760</title>\n",
       "<polygon fill=\"lightgrey\" stroke=\"black\" points=\"221.803,-188 129.497,-188 129.497,-168 221.803,-168 221.803,-188\"/>\n",
       "<text text-anchor=\"middle\" x=\"175.65\" y=\"-174.4\" font-family=\"Times,serif\" font-size=\"12.00\">SumBackward1</text>\n",
       "</g>\n",
       "<!-- 4630023760&#45;&gt;4630793424 -->\n",
       "<g id=\"edge3\" class=\"edge\"><title>4630023760&#45;&gt;4630793424</title>\n",
       "<path fill=\"none\" stroke=\"black\" d=\"M175.65,-167.594C175.65,-160.702 175.65,-151.102 175.65,-142.574\"/>\n",
       "<polygon fill=\"black\" stroke=\"black\" points=\"179.15,-142.298 175.65,-132.298 172.15,-142.298 179.15,-142.298\"/>\n",
       "</g>\n",
       "<!-- 4635172240 -->\n",
       "<g id=\"node5\" class=\"node\"><title>4635172240</title>\n",
       "<polygon fill=\"lightgrey\" stroke=\"black\" points=\"253.776,-244 97.5249,-244 97.5249,-224 253.776,-224 253.776,-244\"/>\n",
       "<text text-anchor=\"middle\" x=\"175.65\" y=\"-230.4\" font-family=\"Times,serif\" font-size=\"12.00\">MseLossBackwardBackward</text>\n",
       "</g>\n",
       "<!-- 4635172240&#45;&gt;4630023760 -->\n",
       "<g id=\"edge4\" class=\"edge\"><title>4635172240&#45;&gt;4630023760</title>\n",
       "<path fill=\"none\" stroke=\"black\" d=\"M175.65,-223.594C175.65,-216.702 175.65,-207.102 175.65,-198.574\"/>\n",
       "<polygon fill=\"black\" stroke=\"black\" points=\"179.15,-198.298 175.65,-188.298 172.15,-198.298 179.15,-198.298\"/>\n",
       "</g>\n",
       "<!-- 4635171216 -->\n",
       "<g id=\"node6\" class=\"node\"><title>4635171216</title>\n",
       "<polygon fill=\"lightgrey\" stroke=\"black\" points=\"227.629,-300 123.672,-300 123.672,-280 227.629,-280 227.629,-300\"/>\n",
       "<text text-anchor=\"middle\" x=\"175.65\" y=\"-286.4\" font-family=\"Times,serif\" font-size=\"12.00\">AddmmBackward</text>\n",
       "</g>\n",
       "<!-- 4635171216&#45;&gt;4635172240 -->\n",
       "<g id=\"edge5\" class=\"edge\"><title>4635171216&#45;&gt;4635172240</title>\n",
       "<path fill=\"none\" stroke=\"black\" d=\"M175.65,-279.594C175.65,-272.702 175.65,-263.102 175.65,-254.574\"/>\n",
       "<polygon fill=\"black\" stroke=\"black\" points=\"179.15,-254.298 175.65,-244.298 172.15,-254.298 179.15,-254.298\"/>\n",
       "</g>\n",
       "<!-- 4635171984 -->\n",
       "<g id=\"node7\" class=\"node\"><title>4635171984</title>\n",
       "<polygon fill=\"lightgrey\" stroke=\"black\" points=\"101.452,-356 -0.150838,-356 -0.150838,-336 101.452,-336 101.452,-356\"/>\n",
       "<text text-anchor=\"middle\" x=\"50.6504\" y=\"-342.4\" font-family=\"Times,serif\" font-size=\"12.00\">ExpandBackward</text>\n",
       "</g>\n",
       "<!-- 4635171984&#45;&gt;4635171216 -->\n",
       "<g id=\"edge6\" class=\"edge\"><title>4635171984&#45;&gt;4635171216</title>\n",
       "<path fill=\"none\" stroke=\"black\" d=\"M71.5726,-335.962C91.7626,-327.24 122.547,-313.941 145.404,-304.067\"/>\n",
       "<polygon fill=\"black\" stroke=\"black\" points=\"146.868,-307.247 154.66,-300.068 144.092,-300.821 146.868,-307.247\"/>\n",
       "</g>\n",
       "<!-- 4635126096 -->\n",
       "<g id=\"node8\" class=\"node\"><title>4635126096</title>\n",
       "<polygon fill=\"lightblue\" stroke=\"black\" points=\"77.6504,-426 23.6504,-426 23.6504,-392 77.6504,-392 77.6504,-426\"/>\n",
       "<text text-anchor=\"middle\" x=\"50.6504\" y=\"-398.4\" font-family=\"Times,serif\" font-size=\"12.00\"> (1)</text>\n",
       "</g>\n",
       "<!-- 4635126096&#45;&gt;4635171984 -->\n",
       "<g id=\"edge7\" class=\"edge\"><title>4635126096&#45;&gt;4635171984</title>\n",
       "<path fill=\"none\" stroke=\"black\" d=\"M50.6504,-391.973C50.6504,-384.11 50.6504,-374.576 50.6504,-366.314\"/>\n",
       "<polygon fill=\"black\" stroke=\"black\" points=\"54.1505,-366.112 50.6504,-356.112 47.1505,-366.112 54.1505,-366.112\"/>\n",
       "</g>\n",
       "<!-- 4635171280 -->\n",
       "<g id=\"node9\" class=\"node\"><title>4635171280</title>\n",
       "<polygon fill=\"lightgrey\" stroke=\"black\" points=\"232.452,-356 118.849,-356 118.849,-336 232.452,-336 232.452,-356\"/>\n",
       "<text text-anchor=\"middle\" x=\"175.65\" y=\"-342.4\" font-family=\"Times,serif\" font-size=\"12.00\">ThresholdBackward</text>\n",
       "</g>\n",
       "<!-- 4635171280&#45;&gt;4635171216 -->\n",
       "<g id=\"edge8\" class=\"edge\"><title>4635171280&#45;&gt;4635171216</title>\n",
       "<path fill=\"none\" stroke=\"black\" d=\"M175.65,-335.594C175.65,-328.702 175.65,-319.102 175.65,-310.574\"/>\n",
       "<polygon fill=\"black\" stroke=\"black\" points=\"179.15,-310.298 175.65,-300.298 172.15,-310.298 179.15,-310.298\"/>\n",
       "</g>\n",
       "<!-- 4635124176 -->\n",
       "<g id=\"node10\" class=\"node\"><title>4635124176</title>\n",
       "<polygon fill=\"lightgrey\" stroke=\"black\" points=\"227.629,-419 123.672,-419 123.672,-399 227.629,-399 227.629,-419\"/>\n",
       "<text text-anchor=\"middle\" x=\"175.65\" y=\"-405.4\" font-family=\"Times,serif\" font-size=\"12.00\">AddmmBackward</text>\n",
       "</g>\n",
       "<!-- 4635124176&#45;&gt;4635171280 -->\n",
       "<g id=\"edge9\" class=\"edge\"><title>4635124176&#45;&gt;4635171280</title>\n",
       "<path fill=\"none\" stroke=\"black\" d=\"M175.65,-398.999C175.65,-390.44 175.65,-377.283 175.65,-366.346\"/>\n",
       "<polygon fill=\"black\" stroke=\"black\" points=\"179.15,-366.038 175.65,-356.038 172.15,-366.038 179.15,-366.038\"/>\n",
       "</g>\n",
       "<!-- 4635123856 -->\n",
       "<g id=\"node11\" class=\"node\"><title>4635123856</title>\n",
       "<polygon fill=\"lightgrey\" stroke=\"black\" points=\"101.452,-482 -0.150838,-482 -0.150838,-462 101.452,-462 101.452,-482\"/>\n",
       "<text text-anchor=\"middle\" x=\"50.6504\" y=\"-468.4\" font-family=\"Times,serif\" font-size=\"12.00\">ExpandBackward</text>\n",
       "</g>\n",
       "<!-- 4635123856&#45;&gt;4635124176 -->\n",
       "<g id=\"edge10\" class=\"edge\"><title>4635123856&#45;&gt;4635124176</title>\n",
       "<path fill=\"none\" stroke=\"black\" d=\"M69.0946,-461.999C89.866,-451.863 123.847,-435.28 147.842,-423.571\"/>\n",
       "<polygon fill=\"black\" stroke=\"black\" points=\"149.679,-426.569 157.131,-419.038 146.609,-420.278 149.679,-426.569\"/>\n",
       "</g>\n",
       "<!-- 4635124496 -->\n",
       "<g id=\"node12\" class=\"node\"><title>4635124496</title>\n",
       "<polygon fill=\"lightblue\" stroke=\"black\" points=\"77.6504,-552 23.6504,-552 23.6504,-518 77.6504,-518 77.6504,-552\"/>\n",
       "<text text-anchor=\"middle\" x=\"50.6504\" y=\"-524.4\" font-family=\"Times,serif\" font-size=\"12.00\"> (40)</text>\n",
       "</g>\n",
       "<!-- 4635124496&#45;&gt;4635123856 -->\n",
       "<g id=\"edge11\" class=\"edge\"><title>4635124496&#45;&gt;4635123856</title>\n",
       "<path fill=\"none\" stroke=\"black\" d=\"M50.6504,-517.973C50.6504,-510.11 50.6504,-500.576 50.6504,-492.314\"/>\n",
       "<polygon fill=\"black\" stroke=\"black\" points=\"54.1505,-492.112 50.6504,-482.112 47.1505,-492.112 54.1505,-492.112\"/>\n",
       "</g>\n",
       "<!-- 4635125584 -->\n",
       "<g id=\"node13\" class=\"node\"><title>4635125584</title>\n",
       "<polygon fill=\"lightgrey\" stroke=\"black\" points=\"232.452,-482 118.849,-482 118.849,-462 232.452,-462 232.452,-482\"/>\n",
       "<text text-anchor=\"middle\" x=\"175.65\" y=\"-468.4\" font-family=\"Times,serif\" font-size=\"12.00\">ThresholdBackward</text>\n",
       "</g>\n",
       "<!-- 4635125584&#45;&gt;4635124176 -->\n",
       "<g id=\"edge12\" class=\"edge\"><title>4635125584&#45;&gt;4635124176</title>\n",
       "<path fill=\"none\" stroke=\"black\" d=\"M175.65,-461.999C175.65,-453.44 175.65,-440.283 175.65,-429.346\"/>\n",
       "<polygon fill=\"black\" stroke=\"black\" points=\"179.15,-429.038 175.65,-419.038 172.15,-429.038 179.15,-429.038\"/>\n",
       "</g>\n",
       "<!-- 4634990736 -->\n",
       "<g id=\"node14\" class=\"node\"><title>4634990736</title>\n",
       "<polygon fill=\"lightgrey\" stroke=\"black\" points=\"227.629,-545 123.672,-545 123.672,-525 227.629,-525 227.629,-545\"/>\n",
       "<text text-anchor=\"middle\" x=\"175.65\" y=\"-531.4\" font-family=\"Times,serif\" font-size=\"12.00\">AddmmBackward</text>\n",
       "</g>\n",
       "<!-- 4634990736&#45;&gt;4635125584 -->\n",
       "<g id=\"edge13\" class=\"edge\"><title>4634990736&#45;&gt;4635125584</title>\n",
       "<path fill=\"none\" stroke=\"black\" d=\"M175.65,-524.999C175.65,-516.44 175.65,-503.283 175.65,-492.346\"/>\n",
       "<polygon fill=\"black\" stroke=\"black\" points=\"179.15,-492.038 175.65,-482.038 172.15,-492.038 179.15,-492.038\"/>\n",
       "</g>\n",
       "<!-- 4634991760 -->\n",
       "<g id=\"node15\" class=\"node\"><title>4634991760</title>\n",
       "<polygon fill=\"lightgrey\" stroke=\"black\" points=\"112.452,-608 10.8492,-608 10.8492,-588 112.452,-588 112.452,-608\"/>\n",
       "<text text-anchor=\"middle\" x=\"61.6504\" y=\"-594.4\" font-family=\"Times,serif\" font-size=\"12.00\">ExpandBackward</text>\n",
       "</g>\n",
       "<!-- 4634991760&#45;&gt;4634990736 -->\n",
       "<g id=\"edge14\" class=\"edge\"><title>4634991760&#45;&gt;4634990736</title>\n",
       "<path fill=\"none\" stroke=\"black\" d=\"M78.4715,-587.999C97.2467,-577.953 127.855,-561.575 149.703,-549.884\"/>\n",
       "<polygon fill=\"black\" stroke=\"black\" points=\"151.594,-552.842 158.76,-545.038 148.292,-546.67 151.594,-552.842\"/>\n",
       "</g>\n",
       "<!-- 4416638032 -->\n",
       "<g id=\"node16\" class=\"node\"><title>4416638032</title>\n",
       "<polygon fill=\"lightblue\" stroke=\"black\" points=\"88.6504,-678 34.6504,-678 34.6504,-644 88.6504,-644 88.6504,-678\"/>\n",
       "<text text-anchor=\"middle\" x=\"61.6504\" y=\"-650.4\" font-family=\"Times,serif\" font-size=\"12.00\"> (40)</text>\n",
       "</g>\n",
       "<!-- 4416638032&#45;&gt;4634991760 -->\n",
       "<g id=\"edge15\" class=\"edge\"><title>4416638032&#45;&gt;4634991760</title>\n",
       "<path fill=\"none\" stroke=\"black\" d=\"M61.6504,-643.973C61.6504,-636.11 61.6504,-626.576 61.6504,-618.314\"/>\n",
       "<polygon fill=\"black\" stroke=\"black\" points=\"65.1505,-618.112 61.6504,-608.112 58.1505,-618.112 65.1505,-618.112\"/>\n",
       "</g>\n",
       "<!-- 4634989072 -->\n",
       "<g id=\"node17\" class=\"node\"><title>4634989072</title>\n",
       "<polygon fill=\"lightgrey\" stroke=\"black\" points=\"220.572,-608 130.728,-608 130.728,-588 220.572,-588 220.572,-608\"/>\n",
       "<text text-anchor=\"middle\" x=\"175.65\" y=\"-594.4\" font-family=\"Times,serif\" font-size=\"12.00\">ViewBackward</text>\n",
       "</g>\n",
       "<!-- 4634989072&#45;&gt;4634990736 -->\n",
       "<g id=\"edge16\" class=\"edge\"><title>4634989072&#45;&gt;4634990736</title>\n",
       "<path fill=\"none\" stroke=\"black\" d=\"M175.65,-587.999C175.65,-579.44 175.65,-566.283 175.65,-555.346\"/>\n",
       "<polygon fill=\"black\" stroke=\"black\" points=\"179.15,-555.038 175.65,-545.038 172.15,-555.038 179.15,-555.038\"/>\n",
       "</g>\n",
       "<!-- 4630099472 -->\n",
       "<g id=\"node18\" class=\"node\"><title>4630099472</title>\n",
       "<polygon fill=\"lightgrey\" stroke=\"black\" points=\"223.469,-671 127.831,-671 127.831,-651 223.469,-651 223.469,-671\"/>\n",
       "<text text-anchor=\"middle\" x=\"175.65\" y=\"-657.4\" font-family=\"Times,serif\" font-size=\"12.00\">CopyBackwards</text>\n",
       "</g>\n",
       "<!-- 4630099472&#45;&gt;4634989072 -->\n",
       "<g id=\"edge17\" class=\"edge\"><title>4630099472&#45;&gt;4634989072</title>\n",
       "<path fill=\"none\" stroke=\"black\" d=\"M175.65,-650.999C175.65,-642.44 175.65,-629.283 175.65,-618.346\"/>\n",
       "<polygon fill=\"black\" stroke=\"black\" points=\"179.15,-618.038 175.65,-608.038 172.15,-618.038 179.15,-618.038\"/>\n",
       "</g>\n",
       "<!-- 4630100432 -->\n",
       "<g id=\"node19\" class=\"node\"><title>4630100432</title>\n",
       "<polygon fill=\"lightblue\" stroke=\"black\" points=\"202.65,-748 148.65,-748 148.65,-714 202.65,-714 202.65,-748\"/>\n",
       "<text text-anchor=\"middle\" x=\"175.65\" y=\"-720.4\" font-family=\"Times,serif\" font-size=\"12.00\"> (10)</text>\n",
       "</g>\n",
       "<!-- 4630100432&#45;&gt;4630099472 -->\n",
       "<g id=\"edge18\" class=\"edge\"><title>4630100432&#45;&gt;4630099472</title>\n",
       "<path fill=\"none\" stroke=\"black\" d=\"M175.65,-713.885C175.65,-704.079 175.65,-691.497 175.65,-681.18\"/>\n",
       "<polygon fill=\"black\" stroke=\"black\" points=\"179.15,-681.111 175.65,-671.111 172.15,-681.111 179.15,-681.111\"/>\n",
       "</g>\n",
       "<!-- 4634991120 -->\n",
       "<g id=\"node20\" class=\"node\"><title>4634991120</title>\n",
       "<polygon fill=\"lightgrey\" stroke=\"black\" points=\"310.625,-608 238.676,-608 238.676,-588 310.625,-588 310.625,-608\"/>\n",
       "<text text-anchor=\"middle\" x=\"274.65\" y=\"-594.4\" font-family=\"Times,serif\" font-size=\"12.00\">TBackward</text>\n",
       "</g>\n",
       "<!-- 4634991120&#45;&gt;4634990736 -->\n",
       "<g id=\"edge19\" class=\"edge\"><title>4634991120&#45;&gt;4634990736</title>\n",
       "<path fill=\"none\" stroke=\"black\" d=\"M260.043,-587.999C243.957,-578.088 217.87,-562.014 198.953,-550.358\"/>\n",
       "<polygon fill=\"black\" stroke=\"black\" points=\"200.668,-547.304 190.318,-545.038 196.996,-553.263 200.668,-547.304\"/>\n",
       "</g>\n",
       "<!-- 4630099280 -->\n",
       "<g id=\"node21\" class=\"node\"><title>4630099280</title>\n",
       "<polygon fill=\"lightblue\" stroke=\"black\" points=\"301.65,-678 247.65,-678 247.65,-644 301.65,-644 301.65,-678\"/>\n",
       "<text text-anchor=\"middle\" x=\"274.65\" y=\"-650.4\" font-family=\"Times,serif\" font-size=\"12.00\"> (40, 1)</text>\n",
       "</g>\n",
       "<!-- 4630099280&#45;&gt;4634991120 -->\n",
       "<g id=\"edge20\" class=\"edge\"><title>4630099280&#45;&gt;4634991120</title>\n",
       "<path fill=\"none\" stroke=\"black\" d=\"M274.65,-643.973C274.65,-636.11 274.65,-626.576 274.65,-618.314\"/>\n",
       "<polygon fill=\"black\" stroke=\"black\" points=\"278.15,-618.112 274.65,-608.112 271.15,-618.112 278.15,-618.112\"/>\n",
       "</g>\n",
       "<!-- 4635125648 -->\n",
       "<g id=\"node22\" class=\"node\"><title>4635125648</title>\n",
       "<polygon fill=\"lightgrey\" stroke=\"black\" points=\"322.625,-482 250.676,-482 250.676,-462 322.625,-462 322.625,-482\"/>\n",
       "<text text-anchor=\"middle\" x=\"286.65\" y=\"-468.4\" font-family=\"Times,serif\" font-size=\"12.00\">TBackward</text>\n",
       "</g>\n",
       "<!-- 4635125648&#45;&gt;4635124176 -->\n",
       "<g id=\"edge21\" class=\"edge\"><title>4635125648&#45;&gt;4635124176</title>\n",
       "<path fill=\"none\" stroke=\"black\" d=\"M270.272,-461.999C251.991,-451.953 222.188,-435.575 200.915,-423.884\"/>\n",
       "<polygon fill=\"black\" stroke=\"black\" points=\"202.546,-420.787 192.096,-419.038 199.174,-426.921 202.546,-420.787\"/>\n",
       "</g>\n",
       "<!-- 4634990416 -->\n",
       "<g id=\"node23\" class=\"node\"><title>4634990416</title>\n",
       "<polygon fill=\"lightblue\" stroke=\"black\" points=\"315.143,-552 258.158,-552 258.158,-518 315.143,-518 315.143,-552\"/>\n",
       "<text text-anchor=\"middle\" x=\"286.65\" y=\"-524.4\" font-family=\"Times,serif\" font-size=\"12.00\"> (40, 40)</text>\n",
       "</g>\n",
       "<!-- 4634990416&#45;&gt;4635125648 -->\n",
       "<g id=\"edge22\" class=\"edge\"><title>4634990416&#45;&gt;4635125648</title>\n",
       "<path fill=\"none\" stroke=\"black\" d=\"M286.65,-517.973C286.65,-510.11 286.65,-500.576 286.65,-492.314\"/>\n",
       "<polygon fill=\"black\" stroke=\"black\" points=\"290.15,-492.112 286.65,-482.112 283.15,-492.112 290.15,-492.112\"/>\n",
       "</g>\n",
       "<!-- 4635171024 -->\n",
       "<g id=\"node24\" class=\"node\"><title>4635171024</title>\n",
       "<polygon fill=\"lightgrey\" stroke=\"black\" points=\"322.625,-356 250.676,-356 250.676,-336 322.625,-336 322.625,-356\"/>\n",
       "<text text-anchor=\"middle\" x=\"286.65\" y=\"-342.4\" font-family=\"Times,serif\" font-size=\"12.00\">TBackward</text>\n",
       "</g>\n",
       "<!-- 4635171024&#45;&gt;4635171216 -->\n",
       "<g id=\"edge23\" class=\"edge\"><title>4635171024&#45;&gt;4635171216</title>\n",
       "<path fill=\"none\" stroke=\"black\" d=\"M268.071,-335.962C250.383,-327.356 223.537,-314.296 203.329,-304.465\"/>\n",
       "<polygon fill=\"black\" stroke=\"black\" points=\"204.813,-301.295 194.29,-300.068 201.751,-307.59 204.813,-301.295\"/>\n",
       "</g>\n",
       "<!-- 4635124304 -->\n",
       "<g id=\"node25\" class=\"node\"><title>4635124304</title>\n",
       "<polygon fill=\"lightblue\" stroke=\"black\" points=\"313.65,-426 259.65,-426 259.65,-392 313.65,-392 313.65,-426\"/>\n",
       "<text text-anchor=\"middle\" x=\"286.65\" y=\"-398.4\" font-family=\"Times,serif\" font-size=\"12.00\"> (1, 40)</text>\n",
       "</g>\n",
       "<!-- 4635124304&#45;&gt;4635171024 -->\n",
       "<g id=\"edge24\" class=\"edge\"><title>4635124304&#45;&gt;4635171024</title>\n",
       "<path fill=\"none\" stroke=\"black\" d=\"M286.65,-391.973C286.65,-384.11 286.65,-374.576 286.65,-366.314\"/>\n",
       "<polygon fill=\"black\" stroke=\"black\" points=\"290.15,-366.112 286.65,-356.112 283.15,-366.112 290.15,-366.112\"/>\n",
       "</g>\n",
       "</g>\n",
       "</svg>\n"
      ],
      "text/plain": [
       "<graphviz.dot.Digraph at 0x114537b10>"
      ]
     },
     "execution_count": 17,
     "metadata": {},
     "output_type": "execute_result"
    }
   ],
   "source": [
    "make_dot(vjp)"
   ]
  },
  {
   "cell_type": "code",
   "execution_count": 18,
   "metadata": {},
   "outputs": [
    {
     "name": "stderr",
     "output_type": "stream",
     "text": [
      "/Users/Mayank/anaconda2/envs/pytorch_src/lib/python2.7/site-packages/torch/autograd/__init__.py:92: UserWarning: retain_variables option is deprecated and will be removed in 0.3. Use retain_graph instead.\n",
      "  warnings.warn(\"retain_variables option is deprecated and will be removed in 0.3. \"\n"
     ]
    }
   ],
   "source": [
    "theta = Variable(torch.randn(2,2), requires_grad=True)\n",
    "f_of_theta = torch.sum(theta ** 2 + theta)\n",
    "vector = Variable(torch.randn(2,2))\n",
    "\n",
    "f_of_theta.backward(Variable(torch.ones(2,2), requires_grad=True), retain_variables=True)\n",
    "gradient = theta.grad\n",
    "gradient_vector_product = torch.sum(gradient * vector)\n",
    "gradient_vector_product.backward(torch.ones(2,2))\n",
    "hessian_vector_product = theta.grad - gradient"
   ]
  },
  {
   "cell_type": "code",
   "execution_count": 19,
   "metadata": {},
   "outputs": [
    {
     "data": {
      "image/svg+xml": [
       "<?xml version=\"1.0\" encoding=\"UTF-8\" standalone=\"no\"?>\n",
       "<!DOCTYPE svg PUBLIC \"-//W3C//DTD SVG 1.1//EN\"\n",
       " \"http://www.w3.org/Graphics/SVG/1.1/DTD/svg11.dtd\">\n",
       "<!-- Generated by graphviz version 2.38.0 (20140413.2041)\n",
       " -->\n",
       "<!-- Title: %3 Pages: 1 -->\n",
       "<svg width=\"323pt\" height=\"448pt\"\n",
       " viewBox=\"0.00 0.00 322.96 448.00\" xmlns=\"http://www.w3.org/2000/svg\" xmlns:xlink=\"http://www.w3.org/1999/xlink\">\n",
       "<g id=\"graph0\" class=\"graph\" transform=\"scale(1 1) rotate(0) translate(4 444)\">\n",
       "<title>%3</title>\n",
       "<polygon fill=\"white\" stroke=\"none\" points=\"-4,4 -4,-444 318.961,-444 318.961,4 -4,4\"/>\n",
       "<!-- 4630932048 -->\n",
       "<g id=\"node1\" class=\"node\"><title>4630932048</title>\n",
       "<polygon fill=\"lightgrey\" stroke=\"black\" points=\"235.811,-20 146.173,-20 146.173,-0 235.811,-0 235.811,-20\"/>\n",
       "<text text-anchor=\"middle\" x=\"190.992\" y=\"-6.4\" font-family=\"Times,serif\" font-size=\"12.00\">SubBackward1</text>\n",
       "</g>\n",
       "<!-- 4630931536 -->\n",
       "<g id=\"node2\" class=\"node\"><title>4630931536</title>\n",
       "<polygon fill=\"lightgrey\" stroke=\"black\" points=\"314.93,-76 169.055,-76 169.055,-56 314.93,-56 314.93,-76\"/>\n",
       "<text text-anchor=\"middle\" x=\"241.992\" y=\"-62.4\" font-family=\"Times,serif\" font-size=\"12.00\">AddBackward_Deprecated</text>\n",
       "</g>\n",
       "<!-- 4630931536&#45;&gt;4630932048 -->\n",
       "<g id=\"edge1\" class=\"edge\"><title>4630931536&#45;&gt;4630932048</title>\n",
       "<path fill=\"none\" stroke=\"black\" d=\"M233.109,-55.5939C225.869,-47.9281 215.464,-36.9109 206.807,-27.7454\"/>\n",
       "<polygon fill=\"black\" stroke=\"black\" points=\"209.185,-25.1653 199.774,-20.2983 204.096,-29.9716 209.185,-25.1653\"/>\n",
       "</g>\n",
       "<!-- 4630932304 -->\n",
       "<g id=\"node3\" class=\"node\"><title>4630932304</title>\n",
       "<polygon fill=\"lightgrey\" stroke=\"black\" points=\"217.992,-132 163.992,-132 163.992,-112 217.992,-112 217.992,-132\"/>\n",
       "<text text-anchor=\"middle\" x=\"190.992\" y=\"-118.4\" font-family=\"Times,serif\" font-size=\"12.00\">Identity</text>\n",
       "</g>\n",
       "<!-- 4630932304&#45;&gt;4630932048 -->\n",
       "<g id=\"edge11\" class=\"edge\"><title>4630932304&#45;&gt;4630932048</title>\n",
       "<path fill=\"none\" stroke=\"black\" d=\"M182.217,-111.905C174.669,-103.401 164.332,-89.9502 159.992,-76 154.742,-59.1226 164.744,-41.0627 174.755,-28.2736\"/>\n",
       "<polygon fill=\"black\" stroke=\"black\" points=\"177.688,-30.2268 181.499,-20.341 172.355,-25.6927 177.688,-30.2268\"/>\n",
       "</g>\n",
       "<!-- 4630932304&#45;&gt;4630931536 -->\n",
       "<g id=\"edge2\" class=\"edge\"><title>4630932304&#45;&gt;4630931536</title>\n",
       "<path fill=\"none\" stroke=\"black\" d=\"M199.876,-111.594C207.116,-103.928 217.521,-92.9109 226.177,-83.7454\"/>\n",
       "<polygon fill=\"black\" stroke=\"black\" points=\"228.889,-85.9716 233.21,-76.2983 223.8,-81.1653 228.889,-85.9716\"/>\n",
       "</g>\n",
       "<!-- 4635909200 -->\n",
       "<g id=\"node4\" class=\"node\"><title>4635909200</title>\n",
       "<polygon fill=\"lightgrey\" stroke=\"black\" points=\"263.93,-188 118.055,-188 118.055,-168 263.93,-168 263.93,-188\"/>\n",
       "<text text-anchor=\"middle\" x=\"190.992\" y=\"-174.4\" font-family=\"Times,serif\" font-size=\"12.00\">AddBackward_Deprecated</text>\n",
       "</g>\n",
       "<!-- 4635909200&#45;&gt;4630932304 -->\n",
       "<g id=\"edge3\" class=\"edge\"><title>4635909200&#45;&gt;4630932304</title>\n",
       "<path fill=\"none\" stroke=\"black\" d=\"M190.992,-167.594C190.992,-160.702 190.992,-151.102 190.992,-142.574\"/>\n",
       "<polygon fill=\"black\" stroke=\"black\" points=\"194.492,-142.298 190.992,-132.298 187.492,-142.298 194.492,-142.298\"/>\n",
       "</g>\n",
       "<!-- 4635909008 -->\n",
       "<g id=\"node5\" class=\"node\"><title>4635909008</title>\n",
       "<polygon fill=\"lightgrey\" stroke=\"black\" points=\"241.793,-363 140.191,-363 140.191,-343 241.793,-343 241.793,-363\"/>\n",
       "<text text-anchor=\"middle\" x=\"190.992\" y=\"-349.4\" font-family=\"Times,serif\" font-size=\"12.00\">ExpandBackward</text>\n",
       "</g>\n",
       "<!-- 4635909008&#45;&gt;4635909200 -->\n",
       "<g id=\"edge4\" class=\"edge\"><title>4635909008&#45;&gt;4635909200</title>\n",
       "<path fill=\"none\" stroke=\"black\" d=\"M195.289,-342.666C199.737,-332.446 206.394,-315.451 208.992,-300 214.594,-266.69 215.38,-257.168 208.992,-224 207.247,-214.937 203.693,-205.379 200.2,-197.414\"/>\n",
       "<polygon fill=\"black\" stroke=\"black\" points=\"203.359,-195.908 195.95,-188.335 197.019,-198.875 203.359,-195.908\"/>\n",
       "</g>\n",
       "<!-- 4635906192 -->\n",
       "<g id=\"node8\" class=\"node\"><title>4635906192</title>\n",
       "<polygon fill=\"lightgrey\" stroke=\"black\" points=\"200.141,-300 109.843,-300 109.843,-280 200.141,-280 200.141,-300\"/>\n",
       "<text text-anchor=\"middle\" x=\"154.992\" y=\"-286.4\" font-family=\"Times,serif\" font-size=\"12.00\">MulBackward0</text>\n",
       "</g>\n",
       "<!-- 4635909008&#45;&gt;4635906192 -->\n",
       "<g id=\"edge8\" class=\"edge\"><title>4635909008&#45;&gt;4635906192</title>\n",
       "<path fill=\"none\" stroke=\"black\" d=\"M185.68,-342.999C180.416,-334.079 172.206,-320.167 165.602,-308.977\"/>\n",
       "<polygon fill=\"black\" stroke=\"black\" points=\"168.423,-306.871 160.326,-300.038 162.394,-310.429 168.423,-306.871\"/>\n",
       "</g>\n",
       "<!-- 4635907216 -->\n",
       "<g id=\"node6\" class=\"node\"><title>4635907216</title>\n",
       "<polygon fill=\"lightblue\" stroke=\"black\" points=\"217.992,-440 163.992,-440 163.992,-406 217.992,-406 217.992,-440\"/>\n",
       "<text text-anchor=\"middle\" x=\"190.992\" y=\"-412.4\" font-family=\"Times,serif\" font-size=\"12.00\"> (2, 2)</text>\n",
       "</g>\n",
       "<!-- 4635907216&#45;&gt;4635909008 -->\n",
       "<g id=\"edge5\" class=\"edge\"><title>4635907216&#45;&gt;4635909008</title>\n",
       "<path fill=\"none\" stroke=\"black\" d=\"M190.992,-405.885C190.992,-396.079 190.992,-383.497 190.992,-373.18\"/>\n",
       "<polygon fill=\"black\" stroke=\"black\" points=\"194.492,-373.111 190.992,-363.111 187.492,-373.111 194.492,-373.111\"/>\n",
       "</g>\n",
       "<!-- 4635907408 -->\n",
       "<g id=\"node7\" class=\"node\"><title>4635907408</title>\n",
       "<polygon fill=\"lightgrey\" stroke=\"black\" points=\"200.141,-244 109.843,-244 109.843,-224 200.141,-224 200.141,-244\"/>\n",
       "<text text-anchor=\"middle\" x=\"154.992\" y=\"-230.4\" font-family=\"Times,serif\" font-size=\"12.00\">MulBackward1</text>\n",
       "</g>\n",
       "<!-- 4635907408&#45;&gt;4635909200 -->\n",
       "<g id=\"edge6\" class=\"edge\"><title>4635907408&#45;&gt;4635909200</title>\n",
       "<path fill=\"none\" stroke=\"black\" d=\"M161.263,-223.594C166.167,-216.238 173.128,-205.796 179.082,-196.865\"/>\n",
       "<polygon fill=\"black\" stroke=\"black\" points=\"182.158,-198.56 184.793,-188.298 176.334,-194.677 182.158,-198.56\"/>\n",
       "</g>\n",
       "<!-- 4635906192&#45;&gt;4635907408 -->\n",
       "<g id=\"edge7\" class=\"edge\"><title>4635906192&#45;&gt;4635907408</title>\n",
       "<path fill=\"none\" stroke=\"black\" d=\"M154.992,-279.594C154.992,-272.702 154.992,-263.102 154.992,-254.574\"/>\n",
       "<polygon fill=\"black\" stroke=\"black\" points=\"158.492,-254.298 154.992,-244.298 151.492,-254.298 158.492,-254.298\"/>\n",
       "</g>\n",
       "<!-- 4635908304 -->\n",
       "<g id=\"node9\" class=\"node\"><title>4635908304</title>\n",
       "<polygon fill=\"lightgrey\" stroke=\"black\" points=\"91.9766,-300 0.00781117,-300 0.00781117,-280 91.9766,-280 91.9766,-300\"/>\n",
       "<text text-anchor=\"middle\" x=\"45.9922\" y=\"-286.4\" font-family=\"Times,serif\" font-size=\"12.00\">PowBackward0</text>\n",
       "</g>\n",
       "<!-- 4635908304&#45;&gt;4635907408 -->\n",
       "<g id=\"edge9\" class=\"edge\"><title>4635908304&#45;&gt;4635907408</title>\n",
       "<path fill=\"none\" stroke=\"black\" d=\"M64.4826,-279.84C81.812,-271.254 107.934,-258.313 127.667,-248.537\"/>\n",
       "<polygon fill=\"black\" stroke=\"black\" points=\"129.368,-251.601 136.775,-244.025 126.26,-245.328 129.368,-251.601\"/>\n",
       "</g>\n",
       "<!-- 4630933200 -->\n",
       "<g id=\"node10\" class=\"node\"><title>4630933200</title>\n",
       "<polygon fill=\"lightblue\" stroke=\"black\" points=\"72.9922,-370 18.9922,-370 18.9922,-336 72.9922,-336 72.9922,-370\"/>\n",
       "<text text-anchor=\"middle\" x=\"45.9922\" y=\"-342.4\" font-family=\"Times,serif\" font-size=\"12.00\"> (2, 2)</text>\n",
       "</g>\n",
       "<!-- 4630933200&#45;&gt;4635908304 -->\n",
       "<g id=\"edge10\" class=\"edge\"><title>4630933200&#45;&gt;4635908304</title>\n",
       "<path fill=\"none\" stroke=\"black\" d=\"M45.9922,-335.973C45.9922,-328.11 45.9922,-318.576 45.9922,-310.314\"/>\n",
       "<polygon fill=\"black\" stroke=\"black\" points=\"49.4923,-310.112 45.9922,-300.112 42.4923,-310.112 49.4923,-310.112\"/>\n",
       "</g>\n",
       "</g>\n",
       "</svg>\n"
      ],
      "text/plain": [
       "<graphviz.dot.Digraph at 0x114066110>"
      ]
     },
     "execution_count": 19,
     "metadata": {},
     "output_type": "execute_result"
    }
   ],
   "source": [
    "make_dot(hessian_vector_product)"
   ]
  },
  {
   "cell_type": "code",
   "execution_count": 125,
   "metadata": {
    "collapsed": true
   },
   "outputs": [],
   "source": [
    "losses = []\n",
    "net = Net()\n",
    "loss_criteria = nn.MSELoss()"
   ]
  },
  {
   "cell_type": "code",
   "execution_count": 126,
   "metadata": {
    "collapsed": true
   },
   "outputs": [],
   "source": [
    "def take_step():\n",
    "    \n",
    "    x, y = get_samples(10, show=False)\n",
    "    \n",
    "    output = net(x)\n",
    "    loss = loss_criteria(output, y)\n",
    "    print \"\\t Pre-train loss: \", loss.data[0]\n",
    "#     losses.append(loss.data[0])\n",
    "    \n",
    "    # Compute d L(ftheta)/dtheta\n",
    "    net.zero_grad()\n",
    "    loss.backward(create_graph=True)\n",
    "    \n",
    "    # Update model parameters\n",
    "    original_state = net.state_dict()\n",
    "    for W in net.parameters():\n",
    "        W.data.sub_(alpha*W.grad.data)\n",
    "    \n",
    "    updates = {}\n",
    "    # Get parameters fro one step lookahead\n",
    "    for j in xrange(meta_batch_size):\n",
    "        x_new, y_new = get_samples(10, show=False)\n",
    "\n",
    "        output_lookahead = net(x_new)\n",
    "        loss = loss_criteria(output_lookahead, y_new)\n",
    "        grad_lookahead = grad(loss, net.parameters(), create_graph=False)\n",
    "        grad_lookahead = map(lambda x: Variable(x.data), grad_lookahead)\n",
    "\n",
    "        for i, (n, W) in enumerate(net.named_parameters()):\n",
    "            vjp = torch.sum(W.grad * grad_lookahead[i])\n",
    "#             vjp.requires_grad = True\n",
    "#             vjp.volatile = False\n",
    "\n",
    "            hvp = grad(vjp, W, retain_graph=True)[0]\n",
    "\n",
    "#             print \"Param: \", n\n",
    "#             print \"W size: \",  W.size(), type(W)\n",
    "#             print \"Beta: \", beta, \" Alpha: \", alpha\n",
    "#             print \"HVP size: \", hvp.size(), type(hvp)\n",
    "#             print \"Original size: \", original_state[n].size()\n",
    "    \n",
    "            temp = W.grad.data - alpha*hvp.data\n",
    "            \n",
    "            if n in updates:\n",
    "                updates[n] += temp\n",
    "            else:\n",
    "                updates[n] = temp.clone()        \n",
    "        \n",
    "        for n, _ in net.named_parameters():\n",
    "#             print \"Param: \", n\n",
    "#             print \"Update: \", -1*beta*updates[n]\n",
    "            \n",
    "            original_state[n] -= beta*updates[n]\n",
    "\n",
    "    net.load_state_dict(original_state)\n",
    "    \n",
    "    output = net(x)\n",
    "    loss = loss_criteria(output, y)\n",
    "    losses.append(loss.data[0])\n",
    "    print \"\\tPost train loss: \", loss.data[0]"
   ]
  },
  {
   "cell_type": "code",
   "execution_count": 127,
   "metadata": {},
   "outputs": [
    {
     "name": "stdout",
     "output_type": "stream",
     "text": [
      "0 \t Pre-train loss:  0.0344468168914\n",
      "\tPost train loss:  0.0197637844831\n",
      "1 \t Pre-train loss:  1.58689677715\n",
      "\tPost train loss:  1.39262127876\n",
      "2 \t Pre-train loss:  0.343419760466\n",
      "\tPost train loss:  0.210094258189\n",
      "3 \t Pre-train loss:  12.914812088\n",
      "\tPost train loss:  18.1120491028\n",
      "4 \t Pre-train loss:  31.3476066589\n",
      "\tPost train loss:  5.14061641693\n",
      "5 \t Pre-train loss:  5.20085048676\n",
      "\tPost train loss:  3.1657435894\n",
      "6 \t Pre-train loss:  10.0887823105\n",
      "\tPost train loss:  8.91570663452\n",
      "7 \t Pre-train loss:  2.43737697601\n",
      "\tPost train loss:  2.26397514343\n",
      "8 \t Pre-train loss:  0.760227799416\n",
      "\tPost train loss:  0.48419418931\n",
      "9 \t Pre-train loss:  12.450676918\n",
      "\tPost train loss:  11.2636814117\n"
     ]
    }
   ],
   "source": [
    "for i in xrange(10):\n",
    "    print i, \n",
    "    take_step()"
   ]
  },
  {
   "cell_type": "code",
   "execution_count": 128,
   "metadata": {},
   "outputs": [
    {
     "data": {
      "image/png": "[encoded data removed]",
      "text/plain": [
       "<matplotlib.figure.Figure at 0x1146fbd10>"
      ]
     },
     "metadata": {},
     "output_type": "display_data"
    }
   ],
   "source": [
    "plt.figure()\n",
    "plt.plot(range(len(losses)), losses)\n",
    "plt.tight_layout()\n",
    "plt.show()"
   ]
  },
  {
   "cell_type": "code",
   "execution_count": 129,
   "metadata": {},
   "outputs": [
    {
     "data": {
      "text/plain": [
       "[0.019763784483075142,\n",
       " 1.3926212787628174,\n",
       " 0.21009425818920135,\n",
       " 18.112049102783203,\n",
       " 5.140616416931152,\n",
       " 3.165743589401245,\n",
       " 8.915706634521484,\n",
       " 2.263975143432617,\n",
       " 0.48419418931007385,\n",
       " 11.263681411743164]"
      ]
     },
     "execution_count": 129,
     "metadata": {},
     "output_type": "execute_result"
    }
   ],
   "source": [
    "losses"
   ]
  },
  {
   "cell_type": "code",
   "execution_count": 130,
   "metadata": {},
   "outputs": [
    {
     "data": {
      "text/plain": [
       "[<matplotlib.lines.Line2D at 0x114824590>]"
      ]
     },
     "execution_count": 130,
     "metadata": {},
     "output_type": "execute_result"
    },
    {
     "data": {
      "image/png": "[encoded data removed]",
      "text/plain": [
       "<matplotlib.figure.Figure at 0x114830910>"
      ]
     },
     "metadata": {},
     "output_type": "display_data"
    }
   ],
   "source": [
    "x_test = Variable(torch.linspace(-5, 5, steps=1000), requires_grad=True)\n",
    "y = net(x_test)\n",
    "\n",
    "plt.plot(x_test.data.numpy(), y.data.numpy())"
   ]
  },
  {
   "cell_type": "code",
   "execution_count": null,
   "metadata": {
    "collapsed": true
   },
   "outputs": [],
   "source": []
  }
 ],
 "metadata": {
  "anaconda-cloud": {},
  "kernelspec": {
   "display_name": "Python 2",
   "language": "python",
   "name": "python2"
  },
  "language_info": {
   "codemirror_mode": {
    "name": "ipython",
    "version": 2
   },
   "file_extension": ".py",
   "mimetype": "text/x-python",
   "name": "python",
   "nbconvert_exporter": "python",
   "pygments_lexer": "ipython2",
   "version": "2.7.14"
  }
 },
 "nbformat": 4,
 "nbformat_minor": 2
}
